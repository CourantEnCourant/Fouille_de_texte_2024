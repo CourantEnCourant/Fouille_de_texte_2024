{
 "cells": [
  {
   "cell_type": "code",
   "execution_count": 5,
   "id": "268d8400-fc36-42e8-81ab-82082a1e6886",
   "metadata": {},
   "outputs": [],
   "source": [
    "# imports\n",
    "import selenium\n",
    "from selenium import webdriver\n",
    "from selenium.webdriver.common.by import By\n",
    "from pathlib import Path"
   ]
  },
  {
   "cell_type": "code",
   "execution_count": 11,
   "id": "da64a9f9-8c59-4d74-9126-403a13d096cd",
   "metadata": {},
   "outputs": [],
   "source": [
    "# open html file\n",
    "\n",
    "driver = webdriver.Chrome()\n",
    "file = Path('../corpus/raw/renaissance/marot_clement/ballades.html')\n",
    "file = file.absolute()\n",
    "\n",
    "driver.get(f'file://{file}')"
   ]
  },
  {
   "cell_type": "code",
   "execution_count": 14,
   "id": "52c4d9aa-94f9-4a08-b084-3432d6bcfc26",
   "metadata": {},
   "outputs": [
    {
     "name": "stdout",
     "output_type": "stream",
     "text": [
      "Number of poems : 13\n",
      "\n",
      "Exemple of a poem :\n",
      "\n",
      "VIVI\n",
      "D'ung Amant ferme en son amour, quelcque rigueur que sa Dame luy fasse\n",
      "Pres de toy, m'a faict arrester\n",
      "Amour, qui tousjours me remord:\n",
      "Mais d'en partir fault m'apprester\n",
      "Sans y poursuyvre ma mort.\n",
      "Bel Acueil, qui m'a rys, me mord,\n",
      "Et tourne ma joye en destresse,\n",
      "Pour avoir quys en trop hault port\n",
      "Premiere, et derniere maistresse.\n",
      "Ha mon cueur, que veoy regretter,\n",
      "Tu cherches trop heureux confort.\n",
      "Foible suis pour te conquester\n",
      "Ung Chasteau de si grand effort:\n",
      "Si vivras tu loyal, et fort,\n",
      "Et combien que rigueur t'oppresse,\n",
      "Je veulx que la tiennes (au fort)\n",
      "Premiere, et derniere maistresse.\n",
      "Premiere, car d'aultre accointer\n",
      "Ne me vint oncques en record.\n",
      "Et derniere, car la quitter\n",
      "Jamais je ne seray d'accord.\n",
      "Premiere me serre, et entord:\n",
      "Derniere peult m'oster de presse.\n",
      "Brief, elle m'est (soit droit, ou tort)\n",
      "Premiere, et derniere maistresse.\n",
      "Envoy\n",
      "A Dieu donc cueur de noble apport,\n",
      "Taché d'ingratitude expresse.\n",
      "A Dieu du Servant sans support\n",
      "Premiere, et derniere maistresse.\n"
     ]
    }
   ],
   "source": [
    "# Find all poems using xpath\n",
    "\n",
    "poems = driver.find_elements(By.XPATH, '//*[@id=\"calibre_link-0\"]/section[2]/div//section')\n",
    "\n",
    "print(f'Number of poems : {len(poems)}')\n",
    "\n",
    "print('\\nExemple of a poem :\\n')\n",
    "print(poems[4].text"
   ]
  },
  {
   "cell_type": "code",
   "execution_count": 15,
   "id": "ca89d4df-91ce-40ea-aa02-93ca4de76aa8",
   "metadata": {},
   "outputs": [
    {
     "name": "stdout",
     "output_type": "stream",
     "text": [
      "d'ung amant ferme en son amour, quelcque rigueur que sa dame luy fasse pres de toy, m'a faict arrester amour, qui tousjours me remord: mais d'en partir fault m'apprester sans y poursuyvre ma mort. bel acueil, qui m'a rys, me mord, et tourne ma joye en destresse, pour avoir quys en trop hault port premiere, et derniere maistresse. ha mon cueur, que veoy regretter, tu cherches trop heureux confort. foible suis pour te conquester ung chasteau de si grand effort: si vivras tu loyal, et fort, et combien que rigueur t'oppresse, je veulx que la tiennes (au fort) premiere, et derniere maistresse. premiere, car d'aultre accointer ne me vint oncques en record. et derniere, car la quitter jamais je ne seray d'accord. premiere me serre, et entord: derniere peult m'oster de presse. brief, elle m'est (soit droit, ou tort) premiere, et derniere maistresse. envoy a dieu donc cueur de noble apport, taché d'ingratitude expresse. a dieu du servant sans support premiere, et derniere maistresse.\n"
     ]
    }
   ],
   "source": [
    "# Clean poems : delete titles, each poem one line, all minuscule\n",
    "\n",
    "poems_clean = []\n",
    "\n",
    "example = poems[4].text.lower()\n",
    "\n",
    "example_lines = example.split('\\n')\n",
    "example_clean = ' '.join(example_lines[1:])\n",
    "\n",
    "print(example_clean)"
   ]
  },
  {
   "cell_type": "code",
   "execution_count": 23,
   "id": "3bbcaae2-4c1f-4d72-949c-11af2dc56ae8",
   "metadata": {},
   "outputs": [],
   "source": [
    "def get_files(input_folder: Path) -> list:\n",
    "    # Enter a folder of corpus, returns paths of all html files\n",
    "    list_htmls = []\n",
    "    if input_folder.is_file():\n",
    "        if input_folder.suffix == '.html':\n",
    "            absolute_path = input_folder.absolute()\n",
    "            list_htmls.append(absolute_path)\n",
    "    elif input_folder.is_dir():\n",
    "        for next_level in input_folder.iterdir():\n",
    "            list_htmls.extend(get_files(next_level))\n",
    "    return list_htmls"
   ]
  },
  {
   "cell_type": "code",
   "execution_count": 25,
   "id": "1837ef4c-91c9-4a44-b689-c7c3b5879ecc",
   "metadata": {},
   "outputs": [
    {
     "name": "stdout",
     "output_type": "stream",
     "text": [
      "/Users/arthurzhang/Cours_de_TAL/semestre_2/fouille_texte/github_projet/scripts/../corpus/raw/renaissance/marot_clement/ballades.html\n",
      "/Users/arthurzhang/Cours_de_TAL/semestre_2/fouille_texte/github_projet/scripts/../corpus/raw/renaissance/marot_clement/chansons.html\n"
     ]
    }
   ],
   "source": [
    "files = get_files(Path('../corpus'))\n",
    "for file in files:\n",
    "    print(file)"
   ]
  },
  {
   "cell_type": "code",
   "execution_count": null,
   "id": "ad258143-efe0-4a54-a72a-ac7c82725a27",
   "metadata": {},
   "outputs": [],
   "source": []
  }
 ],
 "metadata": {
  "kernelspec": {
   "display_name": "fouille_texte",
   "language": "python",
   "name": "fouille_texte"
  },
  "language_info": {
   "codemirror_mode": {
    "name": "ipython",
    "version": 3
   },
   "file_extension": ".py",
   "mimetype": "text/x-python",
   "name": "python",
   "nbconvert_exporter": "python",
   "pygments_lexer": "ipython3",
   "version": "3.11.9"
  }
 },
 "nbformat": 4,
 "nbformat_minor": 5
}
