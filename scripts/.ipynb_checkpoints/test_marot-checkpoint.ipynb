{
 "cells": [
  {
   "cell_type": "code",
   "execution_count": 4,
   "id": "268d8400-fc36-42e8-81ab-82082a1e6886",
   "metadata": {},
   "outputs": [],
   "source": [
    "# imports\n",
    "\n",
    "from lxml import etree as et"
   ]
  },
  {
   "cell_type": "code",
   "execution_count": 5,
   "id": "da64a9f9-8c59-4d74-9126-403a13d096cd",
   "metadata": {},
   "outputs": [],
   "source": [
    "# open html file\n",
    "\n",
    "file = open(\"../corpus/raw/renaissance/marot_clement/chansons.html\", 'r', encoding=\"utf-8\")"
   ]
  },
  {
   "cell_type": "code",
   "execution_count": null,
   "id": "ca89d4df-91ce-40ea-aa02-93ca4de76aa8",
   "metadata": {},
   "outputs": [],
   "source": []
  }
 ],
 "metadata": {
  "kernelspec": {
   "display_name": "fouille_texte",
   "language": "python",
   "name": "fouille_texte"
  },
  "language_info": {
   "codemirror_mode": {
    "name": "ipython",
    "version": 3
   },
   "file_extension": ".py",
   "mimetype": "text/x-python",
   "name": "python",
   "nbconvert_exporter": "python",
   "pygments_lexer": "ipython3",
   "version": "3.11.5"
  }
 },
 "nbformat": 4,
 "nbformat_minor": 5
}
